{
 "cells": [
  {
   "cell_type": "markdown",
   "id": "48b892ae",
   "metadata": {},
   "source": [
    "# Essential functions of OpenCV"
   ]
  },
  {
   "cell_type": "markdown",
   "id": "8681120c",
   "metadata": {},
   "source": [
    "## 1. Image to grayscale conversion"
   ]
  },
  {
   "cell_type": "code",
   "execution_count": 1,
   "id": "322ba464",
   "metadata": {},
   "outputs": [
    {
     "data": {
      "text/plain": [
       "-1"
      ]
     },
     "execution_count": 1,
     "metadata": {},
     "output_type": "execute_result"
    }
   ],
   "source": [
    "import cv2 as cv\n",
    "\n",
    "img=cv.imread(\"F:\\Image\\Cat\\cat1.jpg\")\n",
    "gray=cv.cvtColor(img,cv.COLOR_BGR2GRAY)               #grayscaling the image\n",
    "cv.imshow('cat',gray)\n",
    "cv.waitKey(0)"
   ]
  },
  {
   "cell_type": "code",
   "execution_count": null,
   "id": "a0f0f9a3",
   "metadata": {},
   "outputs": [],
   "source": []
  },
  {
   "cell_type": "markdown",
   "id": "9f7fc57e",
   "metadata": {},
   "source": [
    "## 2. Bluring the image"
   ]
  },
  {
   "cell_type": "code",
   "execution_count": 17,
   "id": "6e8bc4e4",
   "metadata": {},
   "outputs": [
    {
     "data": {
      "text/plain": [
       "-1"
      ]
     },
     "execution_count": 17,
     "metadata": {},
     "output_type": "execute_result"
    }
   ],
   "source": [
    "import cv2 as cv\n",
    "\n",
    "img=cv.imread(\"F:\\Image\\Cat\\cat1.jpg\")\n",
    "blur=cv.GaussianBlur(img,(3,3),cv.BORDER_DEFAULT)        #kernel size should be odd numbers, i.e,(3,3)\n",
    "cv.imshow('blur',blur)\n",
    "cv.waitKey(0)"
   ]
  },
  {
   "cell_type": "code",
   "execution_count": null,
   "id": "6481bacd",
   "metadata": {},
   "outputs": [],
   "source": []
  },
  {
   "cell_type": "markdown",
   "id": "f9606593",
   "metadata": {},
   "source": [
    "## 3. Edge cascade in image"
   ]
  },
  {
   "cell_type": "code",
   "execution_count": 20,
   "id": "543e8d16",
   "metadata": {},
   "outputs": [
    {
     "data": {
      "text/plain": [
       "-1"
      ]
     },
     "execution_count": 20,
     "metadata": {},
     "output_type": "execute_result"
    }
   ],
   "source": [
    "canny=cv.Canny(blur,100,100)\n",
    "cv.imshow('canny',canny)\n",
    "cv.waitKey(0)"
   ]
  },
  {
   "cell_type": "code",
   "execution_count": null,
   "id": "aa1d25e6",
   "metadata": {},
   "outputs": [],
   "source": []
  },
  {
   "cell_type": "markdown",
   "id": "5b65f87b",
   "metadata": {},
   "source": [
    "## 4. Dilating the image"
   ]
  },
  {
   "cell_type": "code",
   "execution_count": 21,
   "id": "843cd381",
   "metadata": {},
   "outputs": [
    {
     "data": {
      "text/plain": [
       "-1"
      ]
     },
     "execution_count": 21,
     "metadata": {},
     "output_type": "execute_result"
    }
   ],
   "source": [
    "dil=cv.dilate(canny,(7,7),iterations=3)\n",
    "cv.imshow('dil',dil)\n",
    "cv.waitKey(0)"
   ]
  },
  {
   "cell_type": "code",
   "execution_count": null,
   "id": "af5fe1a2",
   "metadata": {},
   "outputs": [],
   "source": []
  },
  {
   "cell_type": "markdown",
   "id": "f7384227",
   "metadata": {},
   "source": [
    "## 5. Eroding the image (Anti-Dilating)"
   ]
  },
  {
   "cell_type": "code",
   "execution_count": 22,
   "id": "3ba483f0",
   "metadata": {},
   "outputs": [
    {
     "data": {
      "text/plain": [
       "-1"
      ]
     },
     "execution_count": 22,
     "metadata": {},
     "output_type": "execute_result"
    }
   ],
   "source": [
    "erode=cv.erode(dil,(7,7),iterations=3)\n",
    "cv.imshow('erode',erode)\n",
    "cv.waitKey(0)"
   ]
  },
  {
   "cell_type": "code",
   "execution_count": null,
   "id": "94b8cd38",
   "metadata": {},
   "outputs": [],
   "source": []
  },
  {
   "cell_type": "markdown",
   "id": "e131f89b",
   "metadata": {},
   "source": [
    "## 6. Resize the image"
   ]
  },
  {
   "cell_type": "code",
   "execution_count": 23,
   "id": "3da5ba07",
   "metadata": {},
   "outputs": [
    {
     "data": {
      "text/plain": [
       "-1"
      ]
     },
     "execution_count": 23,
     "metadata": {},
     "output_type": "execute_result"
    }
   ],
   "source": [
    "import cv2 as cv\n",
    "\n",
    "img=cv.imread(\"F:\\Image\\Cat\\cat1.jpg\")\n",
    "resize=cv.resize(img,(500,500),interpolation=cv.INTER_CUBIC)\n",
    "cv.imshow('resize',resize)\n",
    "cv.waitKey(0)"
   ]
  },
  {
   "cell_type": "code",
   "execution_count": null,
   "id": "5a1c9fc0",
   "metadata": {},
   "outputs": [],
   "source": []
  },
  {
   "cell_type": "markdown",
   "id": "1bfa8a3d",
   "metadata": {},
   "source": [
    "## Cropping the image"
   ]
  },
  {
   "cell_type": "code",
   "execution_count": 25,
   "id": "62b1cb14",
   "metadata": {},
   "outputs": [
    {
     "data": {
      "text/plain": [
       "-1"
      ]
     },
     "execution_count": 25,
     "metadata": {},
     "output_type": "execute_result"
    }
   ],
   "source": [
    "crop=resize[50:200,200:400]\n",
    "cv.imshow('crop',crop)\n",
    "cv.waitKey(0)"
   ]
  },
  {
   "cell_type": "code",
   "execution_count": null,
   "id": "10987d92",
   "metadata": {},
   "outputs": [],
   "source": []
  }
 ],
 "metadata": {
  "kernelspec": {
   "display_name": "Python 3 (ipykernel)",
   "language": "python",
   "name": "python3"
  },
  "language_info": {
   "codemirror_mode": {
    "name": "ipython",
    "version": 3
   },
   "file_extension": ".py",
   "mimetype": "text/x-python",
   "name": "python",
   "nbconvert_exporter": "python",
   "pygments_lexer": "ipython3",
   "version": "3.9.7"
  }
 },
 "nbformat": 4,
 "nbformat_minor": 5
}
